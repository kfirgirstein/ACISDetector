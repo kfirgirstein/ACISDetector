{
 "cells": [
  {
   "cell_type": "markdown",
   "metadata": {},
   "source": [
    "$$\n",
    "\\newcommand{\\mat}[1]{\\boldsymbol {#1}}\n",
    "\\newcommand{\\mattr}[1]{\\boldsymbol {#1}^\\top}\n",
    "\\newcommand{\\matinv}[1]{\\boldsymbol {#1}^{-1}}\n",
    "\\newcommand{\\vec}[1]{\\boldsymbol {#1}}\n",
    "\\newcommand{\\vectr}[1]{\\boldsymbol {#1}^\\top}\n",
    "\\newcommand{\\rvar}[1]{\\mathrm {#1}}\n",
    "\\newcommand{\\rvec}[1]{\\boldsymbol{\\mathrm{#1}}}\n",
    "\\newcommand{\\diag}{\\mathop{\\mathrm {diag}}}\n",
    "\\newcommand{\\set}[1]{\\mathbb {#1}}\n",
    "\\newcommand{\\norm}[1]{\\left\\lVert#1\\right\\rVert}\n",
    "\\newcommand{\\pderiv}[2]{\\frac{\\partial #1}{\\partial #2}}\n",
    "\\newcommand{\\bb}[1]{\\boldsymbol{#1}}\n",
    "$$\n",
    "# ACISDetector On Raw Binaries\n",
    "<a id=ACISDetectorRaw></a>\n",
    "In this part, we will examine our algorithms to classify binaries. Additionally, we'll write training loops and implement a modular model trainer. We'll use a few configurations for classifying architecture and instruction set with [isadetect]( https://github.com/kairis/isadetect) Raw Binaries Datasets.\n"
   ]
  },
  {
   "cell_type": "code",
   "execution_count": 2,
   "metadata": {},
   "outputs": [],
   "source": [
    "import os\n",
    "import re\n",
    "import sys\n",
    "import glob\n",
    "import pathlib\n",
    "import numpy as np\n",
    "import matplotlib.pyplot as plt\n",
    "import torch\n",
    "\n",
    "%matplotlib inline\n",
    "%load_ext autoreload\n",
    "%autoreload 2"
   ]
  },
  {
   "cell_type": "code",
   "execution_count": 3,
   "metadata": {},
   "outputs": [
    {
     "name": "stdout",
     "output_type": "stream",
     "text": [
      "Using device: cpu\n"
     ]
    }
   ],
   "source": [
    "plt.rcParams.update({'font.size': 12})\n",
    "device = torch.device('cuda' if torch.cuda.is_available() else 'cpu')\n",
    "print('Using device:', device)"
   ]
  },
  {
   "cell_type": "markdown",
   "metadata": {},
   "source": [
    "## Architecture and instruction set\n",
    "<a id=arch_is></a>\n",
    "<!--isadetect \n",
    "\n",
    "@inproceedings{kairajarvi2020isadetect,\n",
    "author={Kairaj\\\"arvi, Sami and Costin, Andrei and H\\\"am\\\"al\\\"ainen, Timo},\n",
    "title={{ISAdetect: Usable Automated Detection of CPU Architecture and Endianness for Executable Binary Files and Object Code}},\n",
    "booktitle={Proceedings of the Tenth ACM Conference on Data and Application Security and Privacy},\n",
    "year={2020},\n",
    "url=\"https://doi.org/10.1145/3374664.3375742\"\n",
    "}\n",
    "-->\n",
    "\n",
    "In this section, we want to try another approche to idintify architecture"
   ]
  },
  {
   "cell_type": "code",
   "execution_count": 4,
   "metadata": {},
   "outputs": [],
   "source": [
    "import isadetect.helpers as isa_api \n",
    "import src.arch_v2_classifier as arch_api\n",
    "import src.hyperparams as hp\n",
    "from src.binary_dataset import FeatureDataset,DatasetToTuple,RawBinaryDataset\n",
    "import src.arch_trainer as training"
   ]
  },
  {
   "cell_type": "markdown",
   "metadata": {},
   "source": [
    "## Preprocessing \n",
    "We recommend to download this [dataset](https://github.com/kfirgirstein/ACISDetector/releases/download/Dataset/binary_raw.json.tar.gz) before you run this block. \n",
    "After the dataset has been downloaded, place it on: '.pytorch-datasets' folder which should be located in in your home folder"
   ]
  },
  {
   "cell_type": "code",
   "execution_count": 5,
   "metadata": {},
   "outputs": [],
   "source": [
    "import pathlib\n",
    "import tarfile\n",
    "import urllib\n",
    "import shutil\n",
    "DOWNLOAD_URL = 'https://github.com/kfirgirstein/ACISDetector/releases/download/Dataset/binary_raw.json.tar.gz'\n",
    "DATA_DIR = pathlib.Path.home().joinpath('.pytorch-datasets')\n",
    "\n",
    "def download_dataset(out_path=DATA_DIR, url=DOWNLOAD_URL, force=False):\n",
    "    pathlib.Path(out_path).mkdir(exist_ok=True)\n",
    "    out_filename = os.path.join(out_path, \"ISAdetect_only_code_sections\")\n",
    "    tar_out_filename= out_filename + \".tar.gz\"\n",
    "    \n",
    "    if os.path.isfile(tar_out_filename) and not force:\n",
    "        print(f'Dataset file {tar_out_filename} exists, skipping download.')\n",
    "    else:\n",
    "        print(f'Downloading {url}...')\n",
    "        with urllib.request.urlopen(url) as response, open(tar_out_filename, 'wb') as out_file:\n",
    "            shutil.copyfileobj(response, out_file)\n",
    "        print(f'Saved to {tar_out_filename}.')\n",
    "    \n",
    "    if os.path.isdir(out_filename) and not force:\n",
    "        print(f'Dataset dir {out_filename} exists, skipping extraction.')\n",
    "    else:\n",
    "        tf = tarfile.open(tar_out_filename)\n",
    "        tf.extractall()\n",
    "        \n",
    "    return out_filename\n",
    "\n",
    "\n",
    "DATASET_FILE = \"./dataset/binary_raw.json\"\n",
    "if not os.path.isfile(DATASET_FILE):\n",
    "    DATASET_FILE = download_dataset()\n",
    "binary_dataset = RawBinaryDataset(DATASET_FILE)"
   ]
  },
  {
   "cell_type": "code",
   "execution_count": 6,
   "metadata": {},
   "outputs": [
    {
     "name": "stdout",
     "output_type": "stream",
     "text": [
      "features length: 115000\n"
     ]
    }
   ],
   "source": [
    "N = len(binary_dataset)\n",
    "batch_size = 32\n",
    "print(f'features length: {N}')"
   ]
  },
  {
   "cell_type": "code",
   "execution_count": 7,
   "metadata": {},
   "outputs": [
    {
     "name": "stdout",
     "output_type": "stream",
     "text": [
      "Train: 80500 samples\n",
      "Test: 34500 samples\n"
     ]
    }
   ],
   "source": [
    "train_length = int(0.7* N)\n",
    "test_length = N - train_length\n",
    "ds_train,ds_test = torch.utils.data.random_split(binary_dataset,(train_length,test_length))\n",
    "dl_train = torch.utils.data.DataLoader(ds_train,batch_size=batch_size, shuffle=True)\n",
    "dl_test = torch.utils.data.DataLoader(ds_test,batch_size=batch_size, shuffle=True)\n",
    "\n",
    "print(f'Train: {len(ds_train)} samples')\n",
    "print(f'Test: {len(ds_test)} samples')"
   ]
  },
  {
   "cell_type": "code",
   "execution_count": 8,
   "metadata": {},
   "outputs": [
    {
     "name": "stdout",
     "output_type": "stream",
     "text": [
      "torch.Size([1000]) torch.Size([])\n",
      "input size = torch.Size([1000]) X 1\n"
     ]
    }
   ],
   "source": [
    "x0,y0 = ds_train[0]\n",
    "dataset_shape = (x0.shape if x0.dim() > 0 else 1),(y0.shape if y0.dim() > 0 else 1)\n",
    "print(x0.size(),y0.size())\n",
    "print('input size =', dataset_shape[0], \"X\",dataset_shape[1] )"
   ]
  },
  {
   "cell_type": "markdown",
   "metadata": {},
   "source": [
    "Now after we downloaded the ELF binary dataset, we want to make two types of datasets:\n",
    "- **Channeled Dataset** - We would like to treat the ELF as if it were an image. Where each section from the ELF files is a dimension of the image\n",
    "- **Blob Matrix Dataset** - Each section will split to Rows, each row is 16 (0xF) bytes.\n",
    "- **Long String Dataset** - We will treat our information as if it were one long text, so we will use work methodologies like NLP\n"
   ]
  },
  {
   "cell_type": "markdown",
   "metadata": {},
   "source": [
    "#### Channeled Dataset"
   ]
  },
  {
   "cell_type": "markdown",
   "metadata": {},
   "source": [
    "#### Blob Matrix Dataset"
   ]
  },
  {
   "cell_type": "markdown",
   "metadata": {},
   "source": [
    "#### Long String Dataset"
   ]
  },
  {
   "cell_type": "markdown",
   "metadata": {},
   "source": [
    "## Training\n",
    "<a id=part2_3></a>"
   ]
  },
  {
   "cell_type": "markdown",
   "metadata": {},
   "source": [
    "in order to plot our result and to compare them, we will use plot.py\n",
    "and then we'll use the following function to load multiple experiment results and plot them together."
   ]
  },
  {
   "cell_type": "code",
   "execution_count": 9,
   "metadata": {},
   "outputs": [
    {
     "name": "stdout",
     "output_type": "stream",
     "text": [
      "Help on function plot_fit in module jupyter_utils.plot:\n",
      "\n",
      "plot_fit(fit_res: src.train_results.FitResult, fig=None, log_loss=False, legend=None)\n",
      "    Plots a FitResult object.\n",
      "    Creates four plots: train loss, test loss, train acc, test acc.\n",
      "    :param fit_res: The fit result to plot.\n",
      "    :param fig: A figure previously returned from this function. If not None,\n",
      "        plots will the added to this figure.\n",
      "    :param log_loss: Whether to plot the losses in log scale.\n",
      "    :param legend: What to call this FitResult in the legend.\n",
      "    :return: The figure.\n",
      "\n"
     ]
    }
   ],
   "source": [
    "from jupyter_utils.plot import plot_fit, plot_exp_results\n",
    "fig = None\n",
    "fit_res = []\n",
    "\n",
    "num_classes = 24\n",
    "in_size = dataset_shape[0][0]\n",
    "help(plot_fit)"
   ]
  },
  {
   "cell_type": "markdown",
   "metadata": {},
   "source": [
    "### MLP classifier"
   ]
  },
  {
   "cell_type": "code",
   "execution_count": 24,
   "metadata": {},
   "outputs": [
    {
     "name": "stdout",
     "output_type": "stream",
     "text": [
      "{'hidden_size': [8000], 'lr': 0.00075, 'momentum': 0.9, 'dropout': 0.0}\n"
     ]
    }
   ],
   "source": [
    "mlp_hp = hp.mlp_hp_raw()\n",
    "print(mlp_hp)"
   ]
  },
  {
   "cell_type": "code",
   "execution_count": 25,
   "metadata": {},
   "outputs": [
    {
     "name": "stdout",
     "output_type": "stream",
     "text": [
      "MLP(\n",
      "  (classifier): Sequential(\n",
      "    (0): Linear(in_features=1000, out_features=8000, bias=True)\n",
      "    (1): Sigmoid()\n",
      "    (2): Linear(in_features=8000, out_features=24, bias=True)\n",
      "    (3): Softmax(dim=1)\n",
      "  )\n",
      ")\n"
     ]
    }
   ],
   "source": [
    "_mlp = arch_api.MLP(in_size,num_classes,mlp_hp['hidden_size'],mlp_hp['dropout'])\n",
    "optimizer = torch.optim.SGD(_mlp.parameters(), lr=mlp_hp[\"lr\"],momentum=mlp_hp['momentum'])\n",
    "loss_fn = torch.nn.CrossEntropyLoss()\n",
    "trainer = training.ArchTrainer(_mlp, loss_fn, optimizer, device)\n",
    "print(_mlp)"
   ]
  },
  {
   "cell_type": "code",
   "execution_count": 26,
   "metadata": {},
   "outputs": [
    {
     "name": "stdout",
     "output_type": "stream",
     "text": [
      "--- EPOCH 1/10 ---\n",
      "train_batch (Avg. Loss 3.010, Accuracy 26.1): 100%|████████████████████████████████| 2516/2516 [06:06<00:00,  6.87it/s]\n",
      "test_batch (Avg. Loss 2.936, Accuracy 33.0): 100%|█████████████████████████████████| 1079/1079 [00:24<00:00, 44.40it/s]\n",
      "--- EPOCH 2/10 ---\n",
      "train_batch (Avg. Loss 2.921, Accuracy 33.7): 100%|████████████████████████████████| 2516/2516 [06:17<00:00,  6.67it/s]\n",
      "test_batch (Avg. Loss 2.917, Accuracy 34.3): 100%|█████████████████████████████████| 1079/1079 [00:33<00:00, 32.50it/s]\n",
      "--- EPOCH 3/10 ---\n",
      "train_batch (Avg. Loss 2.906, Accuracy 35.0): 100%|████████████████████████████████| 2516/2516 [06:04<00:00,  6.90it/s]\n",
      "test_batch (Avg. Loss 2.909, Accuracy 34.7): 100%|█████████████████████████████████| 1079/1079 [00:22<00:00, 48.44it/s]\n",
      "--- EPOCH 4/10 ---\n",
      "train_batch (2.929):  47%|██████████████████████████▋                              | 1178/2516 [02:47<03:10,  7.02it/s]\n"
     ]
    },
    {
     "ename": "KeyboardInterrupt",
     "evalue": "",
     "output_type": "error",
     "traceback": [
      "\u001b[1;31m---------------------------------------------------------------------------\u001b[0m",
      "\u001b[1;31mKeyboardInterrupt\u001b[0m                         Traceback (most recent call last)",
      "\u001b[1;32m<ipython-input-26-dd3286a37156>\u001b[0m in \u001b[0;36m<module>\u001b[1;34m\u001b[0m\n\u001b[1;32m----> 1\u001b[1;33m \u001b[0mfit_res\u001b[0m\u001b[1;33m.\u001b[0m\u001b[0mappend\u001b[0m\u001b[1;33m(\u001b[0m\u001b[1;33m{\u001b[0m\u001b[1;34m\"legend\"\u001b[0m\u001b[1;33m:\u001b[0m\u001b[1;34m\"MLP\"\u001b[0m\u001b[1;33m,\u001b[0m\u001b[1;34m\"result\"\u001b[0m\u001b[1;33m:\u001b[0m\u001b[0mtrainer\u001b[0m\u001b[1;33m.\u001b[0m\u001b[0mfit\u001b[0m\u001b[1;33m(\u001b[0m\u001b[0mdl_train\u001b[0m\u001b[1;33m,\u001b[0m\u001b[0mdl_test\u001b[0m\u001b[1;33m,\u001b[0m\u001b[0mnum_epochs\u001b[0m \u001b[1;33m=\u001b[0m \u001b[1;36m10\u001b[0m\u001b[1;33m,\u001b[0m\u001b[0mprint_every\u001b[0m\u001b[1;33m=\u001b[0m\u001b[1;36m1\u001b[0m\u001b[1;33m)\u001b[0m\u001b[1;33m}\u001b[0m\u001b[1;33m)\u001b[0m\u001b[1;33m\u001b[0m\u001b[1;33m\u001b[0m\u001b[0m\n\u001b[0m",
      "\u001b[1;32mK:\\study\\technion\\Deep learning\\final\\ACISDetector\\src\\arch_trainer.py\u001b[0m in \u001b[0;36mfit\u001b[1;34m(self, dl_train, dl_test, num_epochs, checkpoints, early_stopping, print_every, **kw)\u001b[0m\n\u001b[0;32m     65\u001b[0m                 \u001b[0mverbose\u001b[0m \u001b[1;33m=\u001b[0m \u001b[1;32mTrue\u001b[0m\u001b[1;33m\u001b[0m\u001b[1;33m\u001b[0m\u001b[0m\n\u001b[0;32m     66\u001b[0m             \u001b[0mself\u001b[0m\u001b[1;33m.\u001b[0m\u001b[0m_print\u001b[0m\u001b[1;33m(\u001b[0m\u001b[1;34mf'--- EPOCH {epoch+1}/{num_epochs} ---'\u001b[0m\u001b[1;33m,\u001b[0m \u001b[0mverbose\u001b[0m\u001b[1;33m)\u001b[0m\u001b[1;33m\u001b[0m\u001b[1;33m\u001b[0m\u001b[0m\n\u001b[1;32m---> 67\u001b[1;33m             \u001b[0mepo_train\u001b[0m \u001b[1;33m=\u001b[0m \u001b[0mself\u001b[0m\u001b[1;33m.\u001b[0m\u001b[0mtrain_epoch\u001b[0m\u001b[1;33m(\u001b[0m\u001b[0mdl_train\u001b[0m\u001b[1;33m,\u001b[0m\u001b[0mverbose\u001b[0m\u001b[1;33m=\u001b[0m\u001b[0mverbose\u001b[0m\u001b[1;33m,\u001b[0m\u001b[1;33m**\u001b[0m\u001b[0mkw\u001b[0m\u001b[1;33m)\u001b[0m\u001b[1;33m\u001b[0m\u001b[1;33m\u001b[0m\u001b[0m\n\u001b[0m\u001b[0;32m     68\u001b[0m             \u001b[0mepo_test\u001b[0m \u001b[1;33m=\u001b[0m \u001b[0mself\u001b[0m\u001b[1;33m.\u001b[0m\u001b[0mtest_epoch\u001b[0m\u001b[1;33m(\u001b[0m\u001b[0mdl_test\u001b[0m\u001b[1;33m,\u001b[0m\u001b[0mverbose\u001b[0m\u001b[1;33m=\u001b[0m\u001b[0mverbose\u001b[0m\u001b[1;33m,\u001b[0m\u001b[1;33m**\u001b[0m\u001b[0mkw\u001b[0m\u001b[1;33m)\u001b[0m\u001b[1;33m\u001b[0m\u001b[1;33m\u001b[0m\u001b[0m\n\u001b[0;32m     69\u001b[0m             \u001b[0mtrain_loss\u001b[0m\u001b[1;33m.\u001b[0m\u001b[0mappend\u001b[0m\u001b[1;33m(\u001b[0m\u001b[0msum\u001b[0m\u001b[1;33m(\u001b[0m\u001b[0mepo_train\u001b[0m\u001b[1;33m.\u001b[0m\u001b[0mlosses\u001b[0m\u001b[1;33m)\u001b[0m\u001b[1;33m/\u001b[0m\u001b[0mlen\u001b[0m\u001b[1;33m(\u001b[0m\u001b[0mepo_train\u001b[0m\u001b[1;33m.\u001b[0m\u001b[0mlosses\u001b[0m\u001b[1;33m)\u001b[0m\u001b[1;33m)\u001b[0m\u001b[1;33m\u001b[0m\u001b[1;33m\u001b[0m\u001b[0m\n",
      "\u001b[1;32mK:\\study\\technion\\Deep learning\\final\\ACISDetector\\src\\arch_trainer.py\u001b[0m in \u001b[0;36mtrain_epoch\u001b[1;34m(self, dl_train, **kw)\u001b[0m\n\u001b[0;32m     99\u001b[0m         \"\"\"\n\u001b[0;32m    100\u001b[0m         \u001b[0mself\u001b[0m\u001b[1;33m.\u001b[0m\u001b[0mmodel\u001b[0m\u001b[1;33m.\u001b[0m\u001b[0mtrain\u001b[0m\u001b[1;33m(\u001b[0m\u001b[1;32mTrue\u001b[0m\u001b[1;33m)\u001b[0m  \u001b[1;31m# set train mode\u001b[0m\u001b[1;33m\u001b[0m\u001b[1;33m\u001b[0m\u001b[0m\n\u001b[1;32m--> 101\u001b[1;33m         \u001b[1;32mreturn\u001b[0m \u001b[0mself\u001b[0m\u001b[1;33m.\u001b[0m\u001b[0m_foreach_batch\u001b[0m\u001b[1;33m(\u001b[0m\u001b[0mdl_train\u001b[0m\u001b[1;33m,\u001b[0m \u001b[0mself\u001b[0m\u001b[1;33m.\u001b[0m\u001b[0mtrain_batch\u001b[0m\u001b[1;33m,\u001b[0m \u001b[1;33m**\u001b[0m\u001b[0mkw\u001b[0m\u001b[1;33m)\u001b[0m\u001b[1;33m\u001b[0m\u001b[1;33m\u001b[0m\u001b[0m\n\u001b[0m\u001b[0;32m    102\u001b[0m \u001b[1;33m\u001b[0m\u001b[0m\n\u001b[0;32m    103\u001b[0m     \u001b[1;32mdef\u001b[0m \u001b[0mtest_epoch\u001b[0m\u001b[1;33m(\u001b[0m\u001b[0mself\u001b[0m\u001b[1;33m,\u001b[0m \u001b[0mdl_test\u001b[0m\u001b[1;33m:\u001b[0m \u001b[0mDataLoader\u001b[0m\u001b[1;33m,\u001b[0m \u001b[1;33m**\u001b[0m\u001b[0mkw\u001b[0m\u001b[1;33m)\u001b[0m \u001b[1;33m->\u001b[0m \u001b[0mEpochResult\u001b[0m\u001b[1;33m:\u001b[0m\u001b[1;33m\u001b[0m\u001b[1;33m\u001b[0m\u001b[0m\n",
      "\u001b[1;32mK:\\study\\technion\\Deep learning\\final\\ACISDetector\\src\\arch_trainer.py\u001b[0m in \u001b[0;36m_foreach_batch\u001b[1;34m(dl, forward_fn, verbose, max_batches)\u001b[0m\n\u001b[0;32m    171\u001b[0m             \u001b[1;32mfor\u001b[0m \u001b[0mbatch_idx\u001b[0m \u001b[1;32min\u001b[0m \u001b[0mrange\u001b[0m\u001b[1;33m(\u001b[0m\u001b[0mnum_batches\u001b[0m\u001b[1;33m)\u001b[0m\u001b[1;33m:\u001b[0m\u001b[1;33m\u001b[0m\u001b[1;33m\u001b[0m\u001b[0m\n\u001b[0;32m    172\u001b[0m                 \u001b[0mdata\u001b[0m \u001b[1;33m=\u001b[0m \u001b[0mnext\u001b[0m\u001b[1;33m(\u001b[0m\u001b[0mdl_iter\u001b[0m\u001b[1;33m)\u001b[0m\u001b[1;33m\u001b[0m\u001b[1;33m\u001b[0m\u001b[0m\n\u001b[1;32m--> 173\u001b[1;33m                 \u001b[0mbatch_res\u001b[0m \u001b[1;33m=\u001b[0m \u001b[0mforward_fn\u001b[0m\u001b[1;33m(\u001b[0m\u001b[0mdata\u001b[0m\u001b[1;33m)\u001b[0m\u001b[1;33m\u001b[0m\u001b[1;33m\u001b[0m\u001b[0m\n\u001b[0m\u001b[0;32m    174\u001b[0m \u001b[1;33m\u001b[0m\u001b[0m\n\u001b[0;32m    175\u001b[0m                 \u001b[0mpbar\u001b[0m\u001b[1;33m.\u001b[0m\u001b[0mset_description\u001b[0m\u001b[1;33m(\u001b[0m\u001b[1;34mf'{pbar_name} ({batch_res.loss:.3f})'\u001b[0m\u001b[1;33m)\u001b[0m\u001b[1;33m\u001b[0m\u001b[1;33m\u001b[0m\u001b[0m\n",
      "\u001b[1;32mK:\\study\\technion\\Deep learning\\final\\ACISDetector\\src\\arch_trainer.py\u001b[0m in \u001b[0;36mtrain_batch\u001b[1;34m(self, batch)\u001b[0m\n\u001b[0;32m    202\u001b[0m         \u001b[0mloss\u001b[0m \u001b[1;33m=\u001b[0m \u001b[0mself\u001b[0m\u001b[1;33m.\u001b[0m\u001b[0mloss_fn\u001b[0m\u001b[1;33m(\u001b[0m\u001b[0my_hat\u001b[0m\u001b[1;33m,\u001b[0m\u001b[0my\u001b[0m\u001b[1;33m)\u001b[0m\u001b[1;33m\u001b[0m\u001b[1;33m\u001b[0m\u001b[0m\n\u001b[0;32m    203\u001b[0m         \u001b[0mloss\u001b[0m\u001b[1;33m.\u001b[0m\u001b[0mbackward\u001b[0m\u001b[1;33m(\u001b[0m\u001b[1;33m)\u001b[0m\u001b[1;33m\u001b[0m\u001b[1;33m\u001b[0m\u001b[0m\n\u001b[1;32m--> 204\u001b[1;33m         \u001b[0mresult\u001b[0m \u001b[1;33m=\u001b[0m \u001b[0mself\u001b[0m\u001b[1;33m.\u001b[0m\u001b[0moptimizer\u001b[0m\u001b[1;33m.\u001b[0m\u001b[0mstep\u001b[0m\u001b[1;33m(\u001b[0m\u001b[1;33m)\u001b[0m\u001b[1;33m\u001b[0m\u001b[1;33m\u001b[0m\u001b[0m\n\u001b[0m\u001b[0;32m    205\u001b[0m         \u001b[0mnum_correct\u001b[0m \u001b[1;33m=\u001b[0m \u001b[1;33m(\u001b[0m\u001b[0my_hat\u001b[0m\u001b[1;33m.\u001b[0m\u001b[0margmax\u001b[0m\u001b[1;33m(\u001b[0m\u001b[1;36m1\u001b[0m\u001b[1;33m)\u001b[0m\u001b[1;33m==\u001b[0m\u001b[0my\u001b[0m\u001b[1;33m)\u001b[0m\u001b[1;33m.\u001b[0m\u001b[0msum\u001b[0m\u001b[1;33m(\u001b[0m\u001b[1;33m)\u001b[0m\u001b[1;33m.\u001b[0m\u001b[0mitem\u001b[0m\u001b[1;33m(\u001b[0m\u001b[1;33m)\u001b[0m\u001b[1;33m\u001b[0m\u001b[1;33m\u001b[0m\u001b[0m\n\u001b[0;32m    206\u001b[0m         \u001b[0mloss\u001b[0m \u001b[1;33m=\u001b[0m \u001b[0mloss\u001b[0m\u001b[1;33m.\u001b[0m\u001b[0mitem\u001b[0m\u001b[1;33m(\u001b[0m\u001b[1;33m)\u001b[0m\u001b[1;33m\u001b[0m\u001b[1;33m\u001b[0m\u001b[0m\n",
      "\u001b[1;32m~\\.conda\\envs\\acisdetector\\lib\\site-packages\\torch\\optim\\sgd.py\u001b[0m in \u001b[0;36mstep\u001b[1;34m(self, closure)\u001b[0m\n\u001b[0;32m    104\u001b[0m                         \u001b[0md_p\u001b[0m \u001b[1;33m=\u001b[0m \u001b[0mbuf\u001b[0m\u001b[1;33m\u001b[0m\u001b[1;33m\u001b[0m\u001b[0m\n\u001b[0;32m    105\u001b[0m \u001b[1;33m\u001b[0m\u001b[0m\n\u001b[1;32m--> 106\u001b[1;33m                 \u001b[0mp\u001b[0m\u001b[1;33m.\u001b[0m\u001b[0mdata\u001b[0m\u001b[1;33m.\u001b[0m\u001b[0madd_\u001b[0m\u001b[1;33m(\u001b[0m\u001b[1;33m-\u001b[0m\u001b[0mgroup\u001b[0m\u001b[1;33m[\u001b[0m\u001b[1;34m'lr'\u001b[0m\u001b[1;33m]\u001b[0m\u001b[1;33m,\u001b[0m \u001b[0md_p\u001b[0m\u001b[1;33m)\u001b[0m\u001b[1;33m\u001b[0m\u001b[1;33m\u001b[0m\u001b[0m\n\u001b[0m\u001b[0;32m    107\u001b[0m \u001b[1;33m\u001b[0m\u001b[0m\n\u001b[0;32m    108\u001b[0m         \u001b[1;32mreturn\u001b[0m \u001b[0mloss\u001b[0m\u001b[1;33m\u001b[0m\u001b[1;33m\u001b[0m\u001b[0m\n",
      "\u001b[1;31mKeyboardInterrupt\u001b[0m: "
     ]
    }
   ],
   "source": [
    "fit_res.append({\"legend\":\"MLP\",\"result\":trainer.fit(dl_train,dl_test,num_epochs = 10,print_every=1)})"
   ]
  },
  {
   "cell_type": "markdown",
   "metadata": {},
   "source": [
    "### CNN conv1 classifier"
   ]
  },
  {
   "cell_type": "code",
   "execution_count": 12,
   "metadata": {},
   "outputs": [
    {
     "name": "stdout",
     "output_type": "stream",
     "text": [
      "{'lr': 0.001, 'k': 32, 's': 4, 'h_c': [1, 4, 4], 'p': 0, 'd': 1}\n"
     ]
    }
   ],
   "source": [
    "cnn_hp = hp.cnn_hp()\n",
    "print(cnn_hp)"
   ]
  },
  {
   "cell_type": "code",
   "execution_count": 13,
   "metadata": {},
   "outputs": [
    {
     "name": "stdout",
     "output_type": "stream",
     "text": [
      "CNN(\n",
      "  (feature_extractor): Sequential(\n",
      "    (0): Conv1d(1, 1, kernel_size=(32,), stride=(4,))\n",
      "    (1): ReLU()\n",
      "    (2): Conv1d(1, 4, kernel_size=(32,), stride=(4,))\n",
      "    (3): ReLU()\n",
      "    (4): Conv1d(4, 4, kernel_size=(32,), stride=(4,))\n",
      "    (5): ReLU()\n",
      "  )\n",
      "  (classifier): Sequential(\n",
      "    (0): Linear(in_features=24, out_features=24, bias=True)\n",
      "    (1): Softmax(dim=1)\n",
      "  )\n",
      ")\n"
     ]
    }
   ],
   "source": [
    "_cnn = arch_api.CNN(in_size,num_classes,kernel_size=cnn_hp[\"k\"], stride=cnn_hp[\"s\"], dilation = cnn_hp[\"d\"],hidden_channels = cnn_hp[\"h_c\"], padding = cnn_hp[\"p\"])\n",
    "optimizer = torch.optim.Adam(_cnn.parameters(), lr=cnn_hp[\"lr\"])\n",
    "loss_fn = torch.nn.CrossEntropyLoss()\n",
    "trainer = training.ArchTrainer(_cnn, loss_fn, optimizer, device)\n",
    "print(_cnn)"
   ]
  },
  {
   "cell_type": "code",
   "execution_count": 14,
   "metadata": {},
   "outputs": [
    {
     "name": "stdout",
     "output_type": "stream",
     "text": [
      "--- EPOCH 1/10 ---\n",
<<<<<<< HEAD
      "train_batch (Avg. Loss 3.146, Accuracy 8.4): 100%|██████████| 2516/2516 [00:38<00:00, 65.86it/s]\n",
      "test_batch (Avg. Loss 3.115, Accuracy 13.9): 100%|██████████| 1079/1079 [00:03<00:00, 290.28it/s]\n",
      "--- EPOCH 2/10 ---\n",
      "train_batch (Avg. Loss 3.097, Accuracy 14.5): 100%|██████████| 2516/2516 [00:38<00:00, 66.00it/s]\n",
      "test_batch (Avg. Loss 3.084, Accuracy 15.8): 100%|██████████| 1079/1079 [00:03<00:00, 337.13it/s]\n",
      "--- EPOCH 3/10 ---\n",
      "train_batch (Avg. Loss 3.080, Accuracy 16.3): 100%|██████████| 2516/2516 [00:25<00:00, 99.31it/s] \n",
      "test_batch (Avg. Loss 3.073, Accuracy 17.4): 100%|██████████| 1079/1079 [00:02<00:00, 382.00it/s]\n",
      "--- EPOCH 4/10 ---\n",
      "train_batch (Avg. Loss 3.069, Accuracy 17.9): 100%|██████████| 2516/2516 [00:26<00:00, 96.02it/s] \n",
      "test_batch (Avg. Loss 3.063, Accuracy 18.7): 100%|██████████| 1079/1079 [00:02<00:00, 374.29it/s]\n",
      "--- EPOCH 5/10 ---\n",
      "train_batch (Avg. Loss 3.060, Accuracy 18.9): 100%|██████████| 2516/2516 [00:22<00:00, 111.77it/s]\n",
      "test_batch (Avg. Loss 3.062, Accuracy 18.1): 100%|██████████| 1079/1079 [00:03<00:00, 359.25it/s]\n",
      "--- EPOCH 6/10 ---\n",
      "train_batch (Avg. Loss 3.055, Accuracy 19.1): 100%|██████████| 2516/2516 [00:31<00:00, 79.12it/s] \n",
      "test_batch (Avg. Loss 3.057, Accuracy 19.0): 100%|██████████| 1079/1079 [00:02<00:00, 370.52it/s]\n",
      "--- EPOCH 7/10 ---\n",
      "train_batch (Avg. Loss 3.050, Accuracy 19.6): 100%|██████████| 2516/2516 [00:27<00:00, 92.03it/s] \n",
      "test_batch (Avg. Loss 3.048, Accuracy 19.8): 100%|██████████| 1079/1079 [00:03<00:00, 322.45it/s]\n",
      "--- EPOCH 8/10 ---\n",
      "train_batch (Avg. Loss 3.044, Accuracy 20.1): 100%|██████████| 2516/2516 [00:25<00:00, 99.10it/s]\n",
      "test_batch (Avg. Loss 3.040, Accuracy 20.5): 100%|██████████| 1079/1079 [00:03<00:00, 311.68it/s]\n",
      "--- EPOCH 9/10 ---\n",
      "train_batch (Avg. Loss 3.040, Accuracy 20.4): 100%|██████████| 2516/2516 [00:32<00:00, 76.49it/s]\n",
      "test_batch (Avg. Loss 3.040, Accuracy 20.6): 100%|██████████| 1079/1079 [00:03<00:00, 283.24it/s]\n",
      "--- EPOCH 10/10 ---\n",
      "train_batch (Avg. Loss 3.037, Accuracy 20.8): 100%|██████████| 2516/2516 [00:41<00:00, 60.43it/s]\n",
      "test_batch (Avg. Loss 3.049, Accuracy 19.6): 100%|██████████| 1079/1079 [00:03<00:00, 284.10it/s]\n"
     ]
    }
   ],
   "source": [
    "fit_res.append({\"legend\":\"CNN\",\"result\":trainer.fit(dl_train,dl_test,num_epochs = 10,print_every=1)})"
   ]
  },
  {
   "cell_type": "markdown",
   "metadata": {},
   "source": [
    "### RNN classifier"
   ]
  },
  {
   "cell_type": "code",
   "execution_count": 10,
   "metadata": {},
   "outputs": [
    {
     "name": "stdout",
     "output_type": "stream",
     "text": [
      "{'i_s': 100, 'l': 4, 'h_f': 64, 'lr': 0.0001}\n"
     ]
    }
   ],
   "source": [
    "rnn_hp = hp.rnn_hp()\n",
    "print(rnn_hp)"
   ]
  },
  {
   "cell_type": "code",
   "execution_count": 11,
   "metadata": {},
   "outputs": [
    {
     "name": "stdout",
     "output_type": "stream",
     "text": [
      "RNN(\n",
      "  (rnn): RNN(100, 64, num_layers=4)\n",
      "  (label): Sequential(\n",
      "    (0): Linear(in_features=256, out_features=24, bias=True)\n",
      "    (1): Softmax(dim=1)\n",
      "  )\n",
      ")\n"
     ]
    }
   ],
   "source": [
    "_rnn = arch_api.RNN(rnn_hp['i_s'],batch_size,num_classes,rnn_hp['l'],rnn_hp['h_f'])\n",
    "optimizer =torch.optim.Adam(_rnn.parameters(), lr=rnn_hp[\"lr\"])\n",
    "loss_fn = torch.nn.CrossEntropyLoss()\n",
    "trainer = training.ArchTrainer(_rnn, loss_fn, optimizer, device)\n",
    "print(_rnn)"
   ]
  },
  {
   "cell_type": "code",
   "execution_count": 12,
   "metadata": {},
   "outputs": [
    {
     "name": "stdout",
     "output_type": "stream",
     "text": [
      "--- EPOCH 1/20 ---\n",
      "train_batch (Avg. Loss 2.941, Accuracy 33.0): 100%|██████████| 2516/2516 [01:03<00:00, 39.38it/s]\n",
      "test_batch (Avg. Loss 2.821, Accuracy 45.2): 100%|██████████| 1079/1079 [00:10<00:00, 101.22it/s]\n",
      "--- EPOCH 2/20 ---\n",
      "train_batch (Avg. Loss 2.796, Accuracy 47.0): 100%|██████████| 2516/2516 [00:50<00:00, 49.83it/s]\n",
      "test_batch (Avg. Loss 2.775, Accuracy 48.9): 100%|██████████| 1079/1079 [00:05<00:00, 182.93it/s]\n",
      "--- EPOCH 3/20 ---\n",
      "train_batch (Avg. Loss 2.763, Accuracy 49.9): 100%|██████████| 2516/2516 [00:50<00:00, 50.19it/s]\n",
      "test_batch (Avg. Loss 2.747, Accuracy 51.3): 100%|██████████| 1079/1079 [00:05<00:00, 184.60it/s]\n",
      "--- EPOCH 4/20 ---\n",
      "train_batch (Avg. Loss 2.724, Accuracy 53.7): 100%|██████████| 2516/2516 [00:58<00:00, 43.10it/s]\n",
      "test_batch (Avg. Loss 2.715, Accuracy 54.3): 100%|██████████| 1079/1079 [00:06<00:00, 165.52it/s]\n",
      "--- EPOCH 5/20 ---\n",
      "train_batch (Avg. Loss 2.701, Accuracy 55.5): 100%|██████████| 2516/2516 [00:50<00:00, 49.96it/s]\n",
      "test_batch (Avg. Loss 2.698, Accuracy 55.5): 100%|██████████| 1079/1079 [00:04<00:00, 230.48it/s]\n",
      "--- EPOCH 6/20 ---\n",
      "train_batch (Avg. Loss 2.687, Accuracy 56.7): 100%|██████████| 2516/2516 [00:34<00:00, 73.18it/s]\n",
      "test_batch (Avg. Loss 2.684, Accuracy 57.3): 100%|██████████| 1079/1079 [00:04<00:00, 232.28it/s]\n",
      "--- EPOCH 7/20 ---\n",
      "train_batch (Avg. Loss 2.675, Accuracy 58.0): 100%|██████████| 2516/2516 [00:51<00:00, 48.90it/s]\n",
      "test_batch (Avg. Loss 2.677, Accuracy 57.6): 100%|██████████| 1079/1079 [00:06<00:00, 166.59it/s]\n",
      "--- EPOCH 8/20 ---\n",
      "train_batch (Avg. Loss 2.668, Accuracy 58.6): 100%|██████████| 2516/2516 [00:58<00:00, 43.35it/s]\n",
      "test_batch (Avg. Loss 2.669, Accuracy 58.4): 100%|██████████| 1079/1079 [00:06<00:00, 160.95it/s]\n",
      "--- EPOCH 9/20 ---\n",
      "train_batch (Avg. Loss 2.662, Accuracy 59.1): 100%|██████████| 2516/2516 [00:53<00:00, 46.73it/s]\n",
      "test_batch (Avg. Loss 2.667, Accuracy 58.4): 100%|██████████| 1079/1079 [00:05<00:00, 186.86it/s]\n",
      "--- EPOCH 10/20 ---\n",
      "train_batch (Avg. Loss 2.657, Accuracy 59.6): 100%|██████████| 2516/2516 [00:51<00:00, 49.20it/s]\n",
      "test_batch (Avg. Loss 2.663, Accuracy 58.8): 100%|██████████| 1079/1079 [00:05<00:00, 187.56it/s]\n",
      "--- EPOCH 11/20 ---\n",
      "train_batch (Avg. Loss 2.654, Accuracy 59.8): 100%|██████████| 2516/2516 [00:55<00:00, 45.19it/s]\n",
      "test_batch (Avg. Loss 2.668, Accuracy 58.2): 100%|██████████| 1079/1079 [00:07<00:00, 146.18it/s]\n",
      "--- EPOCH 12/20 ---\n",
      "train_batch (Avg. Loss 2.649, Accuracy 60.3): 100%|██████████| 2516/2516 [00:52<00:00, 48.24it/s]\n",
      "test_batch (Avg. Loss 2.653, Accuracy 59.9): 100%|██████████| 1079/1079 [00:05<00:00, 182.93it/s]\n",
      "--- EPOCH 13/20 ---\n",
      "train_batch (Avg. Loss 2.643, Accuracy 60.9): 100%|██████████| 2516/2516 [00:51<00:00, 49.04it/s]\n",
      "test_batch (Avg. Loss 2.662, Accuracy 58.7): 100%|██████████| 1079/1079 [00:06<00:00, 177.05it/s]\n",
      "--- EPOCH 14/20 ---\n",
      "train_batch (Avg. Loss 2.641, Accuracy 61.1): 100%|██████████| 2516/2516 [01:01<00:00, 41.14it/s]\n",
      "test_batch (Avg. Loss 2.648, Accuracy 60.3): 100%|██████████| 1079/1079 [00:08<00:00, 124.06it/s]\n",
      "--- EPOCH 15/20 ---\n",
      "train_batch (Avg. Loss 2.638, Accuracy 61.3): 100%|██████████| 2516/2516 [01:07<00:00, 37.26it/s]\n",
      "test_batch (Avg. Loss 2.646, Accuracy 60.4): 100%|██████████| 1079/1079 [00:06<00:00, 159.08it/s]\n",
      "--- EPOCH 16/20 ---\n",
      "train_batch (Avg. Loss 2.634, Accuracy 61.7): 100%|██████████| 2516/2516 [00:49<00:00, 51.16it/s]\n",
      "test_batch (Avg. Loss 2.645, Accuracy 60.6): 100%|██████████| 1079/1079 [00:05<00:00, 202.72it/s]\n",
      "--- EPOCH 17/20 ---\n",
      "train_batch (Avg. Loss 2.631, Accuracy 62.0): 100%|██████████| 2516/2516 [00:42<00:00, 59.04it/s]\n",
      "test_batch (Avg. Loss 2.640, Accuracy 61.2): 100%|██████████| 1079/1079 [00:04<00:00, 221.67it/s]\n",
      "--- EPOCH 18/20 ---\n",
      "train_batch (Avg. Loss 2.630, Accuracy 62.1): 100%|██████████| 2516/2516 [00:41<00:00, 60.04it/s]\n",
      "test_batch (Avg. Loss 2.638, Accuracy 61.1): 100%|██████████| 1079/1079 [00:06<00:00, 172.75it/s]\n",
      "--- EPOCH 19/20 ---\n",
      "train_batch (Avg. Loss 2.627, Accuracy 62.4): 100%|██████████| 2516/2516 [00:56<00:00, 44.51it/s]\n",
      "test_batch (Avg. Loss 2.634, Accuracy 61.6): 100%|██████████| 1079/1079 [00:06<00:00, 167.42it/s]\n",
      "--- EPOCH 20/20 ---\n",
      "train_batch (Avg. Loss 2.624, Accuracy 62.6): 100%|██████████| 2516/2516 [01:02<00:00, 40.15it/s]\n",
      "test_batch (Avg. Loss 2.630, Accuracy 62.0): 100%|██████████| 1079/1079 [00:06<00:00, 169.76it/s]\n"
     ]
    }
   ],
   "source": [
    "fit_res.append({\"legend\":\"RNN\",\"result\":trainer.fit(dl_train,dl_test,num_epochs = 20,print_every=1)})"
   ]
  },
  {
   "cell_type": "code",
   "execution_count": 15,
   "metadata": {},
   "outputs": [
    {
     "data": {
      "image/png": "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\n",
      "text/plain": [
       "<Figure size 1152x720 with 4 Axes>"
      ]
     },
     "metadata": {
      "needs_background": "light"
     },
     "output_type": "display_data"
    }
   ],
   "source": [
    "for elem in fit_res:\n",
    "    fig, axes = plot_fit(elem['result'], fig, legend = elem['legend'],log_loss=True)\n",
    "fig = []"
   ]
  },
  {
   "cell_type": "code",
   "execution_count": null,
   "metadata": {},
   "outputs": [],
   "source": []
  }
 ],
 "metadata": {
  "kernelspec": {
   "display_name": "Python 3",
   "language": "python",
   "name": "python3"
  },
  "language_info": {
   "codemirror_mode": {
    "name": "ipython",
    "version": 3
   },
   "file_extension": ".py",
   "mimetype": "text/x-python",
   "name": "python",
   "nbconvert_exporter": "python",
   "pygments_lexer": "ipython3",
   "version": "3.7.4"
  }
 },
 "nbformat": 4,
 "nbformat_minor": 4
}
