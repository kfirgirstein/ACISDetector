{
 "cells": [
  {
   "cell_type": "markdown",
   "metadata": {},
   "source": [
    "$$\n",
    "\\newcommand{\\mat}[1]{\\boldsymbol {#1}}\n",
    "\\newcommand{\\mattr}[1]{\\boldsymbol {#1}^\\top}\n",
    "\\newcommand{\\matinv}[1]{\\boldsymbol {#1}^{-1}}\n",
    "\\newcommand{\\vec}[1]{\\boldsymbol {#1}}\n",
    "\\newcommand{\\vectr}[1]{\\boldsymbol {#1}^\\top}\n",
    "\\newcommand{\\rvar}[1]{\\mathrm {#1}}\n",
    "\\newcommand{\\rvec}[1]{\\boldsymbol{\\mathrm{#1}}}\n",
    "\\newcommand{\\diag}{\\mathop{\\mathrm {diag}}}\n",
    "\\newcommand{\\set}[1]{\\mathbb {#1}}\n",
    "\\newcommand{\\norm}[1]{\\left\\lVert#1\\right\\rVert}\n",
    "\\newcommand{\\pderiv}[2]{\\frac{\\partial #1}{\\partial #2}}\n",
    "\\newcommand{\\bb}[1]{\\boldsymbol{#1}}\n",
    "$$\n",
    "# Results and Summary\n",
    "<a id=Results_Summary></a>\n",
    "In this part, We will comare our bests modles on different samples.\n",
    "Legitimate sources, which are very common for use today. For example, opening files or sockets"
   ]
  },
  {
   "cell_type": "code",
   "execution_count": 1,
   "metadata": {},
   "outputs": [],
   "source": [
    "import os\n",
    "import re\n",
    "import sys\n",
    "import glob\n",
    "import pathlib\n",
    "import numpy as np\n",
    "import matplotlib.pyplot as plt\n",
    "import torch\n",
    "import isadetect.helpers as isa_api \n",
    "import src.arch_v2_classifier as arch_api\n",
    "import src.hyperparams as hp\n",
    "from src.binary_dataset import FeatureDataset,DatasetToTuple,RawBinaryDataset,BinariesDataset, ClassifiedDataset\n",
    "import src.arch_trainer as training\n",
    "\n",
    "%matplotlib inline\n",
    "%load_ext autoreload\n",
    "%autoreload 2"
   ]
  },
  {
   "cell_type": "code",
   "execution_count": 2,
   "metadata": {},
   "outputs": [
    {
     "name": "stdout",
     "output_type": "stream",
     "text": [
      "Using device: cpu\n"
     ]
    }
   ],
   "source": [
    "plt.rcParams.update({'font.size': 12})\n",
    "device = torch.device('cuda' if torch.cuda.is_available() else 'cpu')\n",
    "print('Using device:', device)"
   ]
  },
  {
   "cell_type": "markdown",
   "metadata": {},
   "source": [
    "## Preprocessing \n",
    "We recommend to download this [dataset](https://github.com/kfirgirstein/ACISDetector/releases/download/Dataset/binary_raw.json.tar.gz) before you run this block. \n",
    "After the dataset has been downloaded, place it on: '.pytorch-datasets' folder which should be located in in your home folder"
   ]
  },
  {
   "cell_type": "code",
   "execution_count": 4,
   "metadata": {},
   "outputs": [],
   "source": [
    "import pathlib\n",
    "import tarfile\n",
    "import urllib\n",
    "import shutil\n",
    "DOWNLOAD_URL = 'https://github.com/kfirgirstein/ACISDetector/releases/download/Dataset/binary_raw.json.tar.gz'\n",
    "DATA_DIR = pathlib.Path.home().joinpath('.pytorch-datasets')\n",
    "\n",
    "def download_dataset(out_path=DATA_DIR, url=DOWNLOAD_URL, force=False):\n",
    "    pathlib.Path(out_path).mkdir(exist_ok=True)\n",
    "    tar_out_filename = os.path.join(out_path, os.path.basename(url))\n",
    "    out_filename = tar_out_filename[:tar_out_filename.find(\".tar\")]\n",
    "\n",
    "    if os.path.isfile(out_filename) and not force:\n",
    "        print(f'Dataset file {out_filename} exists, skipping download.')\n",
    "    else:\n",
    "        print(f'Downloading {url}...')\n",
    "        with urllib.request.urlopen(url) as response, open(tar_out_filename, 'wb') as out_file:\n",
    "            shutil.copyfileobj(response, out_file)\n",
    "        print(f'Saved to {tar_out_filename}.')\n",
    "\n",
    "        tf = tarfile.open(tar_out_filename)\n",
    "        tf.extractall(out_path)\n",
    "        print(f\"All dataset extracte\\nYou can start working!.\")\n",
    "    return out_filename\n",
    "\n",
    "DATASET_FILE = \"./dataset/binary_raw.json\"\n",
    "if not os.path.isfile(DATASET_FILE):\n",
    "    DATASET_FILE = download_dataset()\n",
    "binary_dataset = RawBinaryDataset(DATASET_FILE)"
   ]
  },
  {
   "cell_type": "code",
   "execution_count": 5,
   "metadata": {},
   "outputs": [
    {
     "name": "stdout",
     "output_type": "stream",
     "text": [
      "features length: 115000\n"
     ]
    }
   ],
   "source": [
    "N = len(binary_dataset)\n",
    "batch_size = 32\n",
    "print(f'features length: {N}')"
   ]
  },
  {
   "cell_type": "code",
   "execution_count": 6,
   "metadata": {},
   "outputs": [
    {
     "name": "stdout",
     "output_type": "stream",
     "text": [
      "Train: 80500 samples\n",
      "Test: 34500 samples\n"
     ]
    }
   ],
   "source": [
    "train_length = int(0.7* N)\n",
    "test_length = N - train_length\n",
    "ds_train,ds_test = torch.utils.data.random_split(binary_dataset,(train_length,test_length))\n",
    "dl_train = torch.utils.data.DataLoader(ds_train,batch_size=batch_size, shuffle=True)\n",
    "dl_test = torch.utils.data.DataLoader(ds_test,batch_size=batch_size, shuffle=True)\n",
    "\n",
    "print(f'Train: {len(ds_train)} samples')\n",
    "print(f'Test: {len(ds_test)} samples')"
   ]
  },
  {
   "cell_type": "code",
   "execution_count": 7,
   "metadata": {},
   "outputs": [
    {
     "name": "stdout",
     "output_type": "stream",
     "text": [
      "torch.Size([1000]) torch.Size([])\n",
      "input size = torch.Size([1000]) X 1\n"
     ]
    }
   ],
   "source": [
    "x0,y0 = ds_train[0]\n",
    "dataset_shape = (x0.shape if x0.dim() > 0 else 1),(y0.shape if y0.dim() > 0 else 1)\n",
    "print(x0.size(),y0.size())\n",
    "print('input size =', dataset_shape[0], \"X\",dataset_shape[1] )"
   ]
  },
  {
   "cell_type": "markdown",
   "metadata": {},
   "source": [
    "## Load best modles"
   ]
  },
  {
   "cell_type": "markdown",
   "metadata": {},
   "source": [
    "Now that we have found the best architecture for the inital calssification, we are going to use it in order to classify the entire binaries. Basically the result of the calssification will be the most popular result among the 1KB chunks of data"
   ]
  },
  {
   "cell_type": "markdown",
   "metadata": {},
   "source": [
    "First, lets load the dataset which contains the full binaries"
   ]
  },
  {
   "cell_type": "code",
   "execution_count": 9,
   "metadata": {},
   "outputs": [],
   "source": [
    "BINARIES_DATASET_DIR = \"./dataset/binaries\"\n",
    "binaries_dataset = BinariesDataset(BINARIES_DATASET_DIR, 2500)"
   ]
  },
  {
   "cell_type": "markdown",
   "metadata": {},
   "source": [
    "Now we will load our best model final checkpoint"
   ]
  },
  {
   "cell_type": "code",
   "execution_count": 10,
   "metadata": {},
   "outputs": [
    {
     "data": {
      "text/plain": [
       "<All keys matched successfully>"
      ]
     },
     "execution_count": 10,
     "metadata": {},
     "output_type": "execute_result"
    }
   ],
   "source": [
    "CHECKPOINTS_PATH = \"./checkpoints/\"\n",
    "saved_state = torch.load(CHECKPOINTS_PATH + \"rnn.pt\", map_location=torch.device('cpu'))\n",
    "\n",
    "rnn_hp = hp.rnn_hp()\n",
    "model = arch_api.RNN(rnn_hp['i_s'],batch_size,num_classes,rnn_hp['l'],rnn_hp['h_f'])\n",
    "model.load_state_dict(saved_state['model_state'])"
   ]
  },
  {
   "cell_type": "markdown",
   "metadata": {},
   "source": [
    "Now we create our dataloaders"
   ]
  },
  {
   "cell_type": "code",
   "execution_count": 11,
   "metadata": {},
   "outputs": [],
   "source": [
    "N = len(binaries_dataset)\n",
    "train_length = int(0.7* N)\n",
    "test_length = N - train_length\n",
    "ds_train,ds_test = torch.utils.data.random_split(binaries_dataset,(train_length,test_length))\n",
    "dl_train = torch.utils.data.DataLoader(ds_train,batch_size=batch_size, shuffle=True)\n",
    "dl_test = torch.utils.data.DataLoader(ds_test,batch_size=batch_size, shuffle=True)"
   ]
  },
  {
   "cell_type": "markdown",
   "metadata": {},
   "source": [
    "Here we will activate our model on every block of the dataset"
   ]
  },
  {
   "cell_type": "code",
   "execution_count": null,
   "metadata": {},
   "outputs": [],
   "source": [
    "import json\n",
    "\n",
    "rnn_hp = hp.rnn_hp()\n",
    "model = arch_api.RNN(rnn_hp['i_s'],batch_size,num_classes,rnn_hp['l'],rnn_hp['h_f'])\n",
    "model.load_state_dict(saved_state['model_state'])\n",
    "\n",
    "ARCHITECTURES = ['alpha', 'amd64', 'arm64', 'armel', 'armhf', 'hppa', 'i386', 'ia64', 'm68k','mips', 'mips64el','mipsel', 'powerpc', 'powerpcspe', 'ppc64', 'ppc64el', 'riscv64', 's390', 's390x','sh4', 'sparc', 'sparc64', 'x32']\n",
    "for i in range(len(ARCHITECTURES)):\n",
    "    if(os.path.isfile(\"./json_datasets/\" + ARCHITECTURES[i] + \"_final_classification.json\")):\n",
    "        continue\n",
    "    json_data = {}\n",
    "    for sample_idx in range(2500):\n",
    "        if (sample_idx % 100 == 0):\n",
    "            print(ARCHITECTURES[i] + \":\" + str(sample_idx))\n",
    "        stats = [0] * num_classes\n",
    "        label = int(binaries_dataset[sample_idx + i*2500][1].item())\n",
    "        if ARCHITECTURES[label] not in json_data:\n",
    "            json_data[ARCHITECTURES[label]] = []\n",
    "        data = binaries_dataset[sample_idx + i*2500][0]\n",
    "        data = torch.split(data,1000)\n",
    "        \n",
    "        results = {}\n",
    "        for block in range(len(data) - 1):\n",
    "                result = model(data[block].reshape([1,1000])).tolist()\n",
    "                results[str(block)] = result\n",
    "        json_data[ARCHITECTURES[label]].append(results)\n",
    "\n",
    "    with open(\"./json_datasets/\" + ARCHITECTURES[i] + \"_final_classification.json\",\"w\") as fj:\n",
    "        json.dump(json_data,fj)"
   ]
  },
  {
   "cell_type": "markdown",
   "metadata": {},
   "source": [
    "## The Final Competition\n",
    "\n",
    "Now we will use naive approach"
   ]
  },
  {
   "cell_type": "code",
   "execution_count": 40,
   "metadata": {},
   "outputs": [
    {
     "name": "stdout",
     "output_type": "stream",
     "text": [
      "alpha: 2475 out of 2500 were classified correctly\n",
      "amd64: 2063 out of 2500 were classified correctly\n",
      "arm64: 2489 out of 2500 were classified correctly\n",
      "armel: 2493 out of 2500 were classified correctly\n",
      "armhf: 2461 out of 2500 were classified correctly\n",
      "hppa: 2499 out of 2500 were classified correctly\n",
      "i386: 2293 out of 2500 were classified correctly\n",
      "ia64: 2490 out of 2500 were classified correctly\n",
      "m68k: 2235 out of 2500 were classified correctly\n",
      "mips: 429 out of 2500 were classified correctly\n",
      "mips64el: 2476 out of 2500 were classified correctly\n",
      "mipsel: 2462 out of 2500 were classified correctly\n",
      "powerpc: 2323 out of 2500 were classified correctly\n",
      "powerpcspe: 1892 out of 2500 were classified correctly\n",
      "ppc64: 2487 out of 2500 were classified correctly\n",
      "ppc64el: 2491 out of 2500 were classified correctly\n",
      "s390: 2450 out of 2500 were classified correctly\n",
      "s390x: 2476 out of 2500 were classified correctly\n",
      "sh4: 2317 out of 2500 were classified correctly\n",
      "sparc: 2496 out of 2500 were classified correctly\n",
      "sparc64: 959 out of 2500 were classified correctly\n",
      "In total 46756 samples were classified correctly\n"
     ]
    }
   ],
   "source": [
    "import json\n",
    "\n",
    "ARCHITECTURES = ['alpha', 'amd64', 'arm64', 'armel', 'armhf', 'hppa', 'i386', 'ia64', 'm68k','mips', 'mips64el','mipsel', 'powerpc', 'powerpcspe', 'ppc64', 'ppc64el', 'riscv64', 's390', 's390x','sh4', 'sparc', 'sparc64', 'x32']\n",
    "ARCHS_TO_CLASSIFY = ['alpha', 'amd64', 'arm64', 'armel', 'armhf', 'hppa', 'i386', 'ia64', 'm68k','mips', 'mips64el','mipsel', 'powerpc', 'powerpcspe', 'ppc64', 'ppc64el', 's390', 's390x','sh4', 'sparc', 'sparc64']\n",
    "total_classified = 0\n",
    "\n",
    "classification_results = {}\n",
    "\n",
    "for arch in ARCHS_TO_CLASSIFY:\n",
    "    successfully_classfied = 0\n",
    "    # print(\"Checking arch: \" + arch)\n",
    "    json_file = open(\"./json_datasets/\" + arch + \"_final_classification.json\", 'rb')\n",
    "    data = json.load(json_file)\n",
    "    json_file.close()\n",
    "    samples = data[arch]\n",
    "    for idx in range(2500):\n",
    "        stats = [0] * num_classes\n",
    "        sample = samples[idx]\n",
    "        \n",
    "        for chunk_idx in range(len(sample)):\n",
    "            result = sample[str(chunk_idx)]\n",
    "            stats[np.argmax(result)] += 1\n",
    "    \n",
    "        if np.argmax(stats) == ARCHITECTURES.index(arch):\n",
    "            successfully_classfied +=1\n",
    "        \n",
    "    print(arch + \": \" + str(successfully_classfied) + \" out of 2500 were classified correctly\")\n",
    "    total_classified += successfully_classfied\n",
    "    classification_results[arch] = float(successfully_classfied) / 2500.0 * 100.0\n",
    "    \n",
    "print(\"In total \" + str(total_classified) + \" samples were classified correctly\")\n",
    "    "
   ]
  },
  {
   "cell_type": "code",
   "execution_count": 41,
   "metadata": {},
   "outputs": [
    {
     "data": {
      "text/plain": [
       "{'alpha': 99.0,\n",
       " 'amd64': 82.52000000000001,\n",
       " 'arm64': 99.56,\n",
       " 'armel': 99.72,\n",
       " 'armhf': 98.44000000000001,\n",
       " 'hppa': 99.96000000000001,\n",
       " 'i386': 91.72,\n",
       " 'ia64': 99.6,\n",
       " 'm68k': 89.4,\n",
       " 'mips': 17.16,\n",
       " 'mips64el': 99.03999999999999,\n",
       " 'mipsel': 98.48,\n",
       " 'powerpc': 92.92,\n",
       " 'powerpcspe': 75.68,\n",
       " 'ppc64': 99.48,\n",
       " 'ppc64el': 99.64,\n",
       " 's390': 98.0,\n",
       " 's390x': 99.03999999999999,\n",
       " 'sh4': 92.67999999999999,\n",
       " 'sparc': 99.83999999999999,\n",
       " 'sparc64': 38.36}"
      ]
     },
     "execution_count": 41,
     "metadata": {},
     "output_type": "execute_result"
    }
   ],
   "source": [
    "classification_results\n"
   ]
  },
  {
   "cell_type": "markdown",
   "metadata": {},
   "source": [
    "Here we will plot them"
   ]
  },
  {
   "cell_type": "code",
   "execution_count": 46,
   "metadata": {},
   "outputs": [
    {
     "data": {
      "image/png": "[encoded data removed]",
      "text/plain": [
       "<Figure size 432x288 with 1 Axes>"
      ]
     },
     "metadata": {
      "needs_background": "light"
     },
     "output_type": "display_data"
    }
   ],
   "source": [
    "import matplotlib\n",
    "import numpy as np\n",
    "import matplotlib.pyplot as plt\n",
    "\n",
    "plt.bar(range(len(classification_results)), list(classification_results.values()), align='center')\n",
    "plt.xticks(range(len(classification_results)), list(classification_results.keys()), rotation='vertical')\n",
    "\n",
    "plt.show()"
   ]
  },
  {
   "cell_type": "markdown",
   "metadata": {},
   "source": [
    "Here we will use an MLP approach"
   ]
  },
  {
   "cell_type": "code",
   "execution_count": 9,
   "metadata": {},
   "outputs": [],
   "source": [
    "import json\n",
    "archs = ['alpha', 'amd64', 'arm64', 'armel', 'armhf', 'hppa', 'i386', 'ia64', 'm68k','mips', 'mips64el','mipsel', 'powerpc', 'powerpcspe', 'ppc64', 'ppc64el', 's390', 's390x','sh4', 'sparc', 'sparc64']\n",
    "\n",
    "JSON_DATASETS_DIR = \"./json_datasets/\"\n",
    "dataset = ClassifiedDataset(JSON_DATASETS_DIR, archs, 2500, 24)\n",
    "\n",
    "N = len(dataset)\n",
    "train_length = int(0.7* N)\n",
    "test_length = N - train_length\n",
    "ds_train,ds_test = torch.utils.data.random_split(dataset,(train_length,test_length))\n",
    "dl_train = torch.utils.data.DataLoader(ds_train,batch_size=batch_size, shuffle=True)\n",
    "dl_test = torch.utils.data.DataLoader(ds_test,batch_size=batch_size, shuffle=True)"
   ]
  },
  {
   "cell_type": "code",
   "execution_count": 47,
   "metadata": {},
   "outputs": [
    {
     "name": "stdout",
     "output_type": "stream",
     "text": [
      "MLP(\n",
      "  (classifier): Sequential(\n",
      "    (0): Linear(in_features=48, out_features=256, bias=True)\n",
      "    (1): Sigmoid()\n",
      "    (2): Linear(in_features=256, out_features=24, bias=True)\n",
      "    (3): Softmax(dim=1)\n",
      "  )\n",
      ")\n"
     ]
    }
   ],
   "source": [
    "mlp_hp = dict(hidden_size=[256], lr=0.1, momentum=0.95,dropout=0)\n",
    "\n",
    "_mlp = arch_api.MLP(2*num_classes,num_classes,mlp_hp['hidden_size'],mlp_hp['dropout'])\n",
    "optimizer = torch.optim.SGD(_mlp.parameters(), lr=mlp_hp[\"lr\"],momentum=mlp_hp['momentum'])\n",
    "loss_fn = torch.nn.CrossEntropyLoss()\n",
    "trainer = training.ArchTrainer(_mlp, loss_fn, optimizer, device)\n",
    "print(_mlp)"
   ]
  },
  {
   "cell_type": "markdown",
   "metadata": {},
   "source": [
    "Here we train our model"
   ]
  },
  {
   "cell_type": "code",
   "execution_count": 3,
   "metadata": {},
   "outputs": [],
   "source": [
    "#fit_res.append({\"legend\":\"Final_MLP\",\"result\":trainer.fit(dl_train,dl_test,num_epochs = 1,print_every=1,checkpoints=\"checkpoints/final_mlp\")})"
   ]
  }
 ],
 "metadata": {
  "kernelspec": {
   "display_name": "Python 3",
   "language": "python",
   "name": "python3"
  },
  "language_info": {
   "codemirror_mode": {
    "name": "ipython",
    "version": 3
   },
   "file_extension": ".py",
   "mimetype": "text/x-python",
   "name": "python",
   "nbconvert_exporter": "python",
   "pygments_lexer": "ipython3",
   "version": "3.7.4"
  }
 },
 "nbformat": 4,
 "nbformat_minor": 4
}
